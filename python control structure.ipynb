{
 "cells": [
  {
   "cell_type": "code",
   "execution_count": 2,
   "metadata": {},
   "outputs": [
    {
     "name": "stdout",
     "output_type": "stream",
     "text": [
      "1\n",
      "2\n",
      "3\n",
      "4\n",
      "5\n",
      "6\n",
      "7\n",
      "8\n",
      "9\n",
      "10\n"
     ]
    }
   ],
   "source": [
    "# while loop\n",
    "num = 1\n",
    "while num <= 10:\n",
    "    print(num)\n",
    "    num = num + 1"
   ]
  },
  {
   "cell_type": "code",
   "execution_count": 3,
   "metadata": {},
   "outputs": [
    {
     "name": "stdout",
     "output_type": "stream",
     "text": [
      "c == d\n"
     ]
    }
   ],
   "source": [
    "# if \n",
    "c = 15 * 5\n",
    "d = 15 + 15 + 15 + 15 + 15\n",
    "if c > d:                      # If c is greater than d\n",
    "    print('c > d')             # print 'c > d'\n",
    "elif c == d:                   # Otherwise, if c and d are equal\n",
    "    print('c == d')            #  print'c == d'\n",
    "else:                          # else\n",
    "    print('c < d')             # print 'c < d'"
   ]
  },
  {
   "cell_type": "code",
   "execution_count": 4,
   "metadata": {},
   "outputs": [
    {
     "name": "stdout",
     "output_type": "stream",
     "text": [
      "mother 6\n",
      "father 6\n",
      "gentleman 9\n",
      "sexy lady 9\n"
     ]
    }
   ],
   "source": [
    "# for\n",
    "family = ['mother', 'father', 'gentleman', 'sexy lady']\n",
    "\n",
    "for x in family:                    # For each entry x in the family\n",
    "    print('%s %s' % (x, len(x)))    # Print the length of x and x."
   ]
  },
  {
   "cell_type": "code",
   "execution_count": null,
   "metadata": {
    "collapsed": true
   },
   "outputs": [],
   "source": []
  }
 ],
 "metadata": {
  "kernelspec": {
   "display_name": "Python 3",
   "language": "python",
   "name": "python3"
  },
  "language_info": {
   "codemirror_mode": {
    "name": "ipython",
    "version": 3
   },
   "file_extension": ".py",
   "mimetype": "text/x-python",
   "name": "python",
   "nbconvert_exporter": "python",
   "pygments_lexer": "ipython3",
   "version": "3.6.3"
  }
 },
 "nbformat": 4,
 "nbformat_minor": 2
}
